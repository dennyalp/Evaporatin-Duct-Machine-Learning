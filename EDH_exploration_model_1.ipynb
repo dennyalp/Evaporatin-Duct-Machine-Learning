{
 "cells": [
  {
   "cell_type": "code",
   "execution_count": 1,
   "metadata": {},
   "outputs": [],
   "source": [
    "import glob \n",
    "import time \n",
    "import os\n",
    "\n",
    "import numpy as np\n",
    "import pandas as pd\n",
    "\n",
    "import h2o\n",
    "from h2o.estimators.random_forest import H2ORandomForestEstimator\n",
    "\n",
    "\n",
    "from sklearn.metrics import mean_absolute_error \n",
    "from sklearn.metrics import mean_squared_error \n",
    "\n",
    "from hyperopt import hp, fmin, tpe, STATUS_OK, Trials\n",
    "\n",
    "import matplotlib.pyplot as plt \n"
   ]
  },
  {
   "cell_type": "markdown",
   "metadata": {},
   "source": [
    "## Data reading"
   ]
  },
  {
   "cell_type": "code",
   "execution_count": 2,
   "metadata": {},
   "outputs": [
    {
     "name": "stdout",
     "output_type": "stream",
     "text": [
      "(6120516, 19)\n"
     ]
    }
   ],
   "source": [
    "col_names = ['yyyy', 'mm', 'dd', 'HH', 'LON', 'LAT', 'Pres(hpa)', 'T(Celcius)', 'SST(Celcius)', 'RH(%)', 'u(m/s)', 'v(m/s)', 'WS(m/s)', 'WD(degrees)', 'q(g/kg)', 'dq(g/kg)', 'ASTD(Celcius)', 'RiB', 'EDH(m)']\n",
    "df = pd.concat([pd.read_csv(f, header=None, names = col_names, sep = '\\s+') for f in glob.glob ('data/*.txt')], ignore_index = True, sort = False)\n",
    "\n",
    "print(df.shape)\n"
   ]
  },
  {
   "cell_type": "code",
   "execution_count": 3,
   "metadata": {},
   "outputs": [
    {
     "data": {
      "text/html": [
       "<div>\n",
       "<style scoped>\n",
       "    .dataframe tbody tr th:only-of-type {\n",
       "        vertical-align: middle;\n",
       "    }\n",
       "\n",
       "    .dataframe tbody tr th {\n",
       "        vertical-align: top;\n",
       "    }\n",
       "\n",
       "    .dataframe thead th {\n",
       "        text-align: right;\n",
       "    }\n",
       "</style>\n",
       "<table border=\"1\" class=\"dataframe\">\n",
       "  <thead>\n",
       "    <tr style=\"text-align: right;\">\n",
       "      <th></th>\n",
       "      <th>yyyy</th>\n",
       "      <th>mm</th>\n",
       "      <th>dd</th>\n",
       "      <th>HH</th>\n",
       "      <th>LON</th>\n",
       "      <th>LAT</th>\n",
       "      <th>Pres(hpa)</th>\n",
       "      <th>T(Celcius)</th>\n",
       "      <th>SST(Celcius)</th>\n",
       "      <th>RH(%)</th>\n",
       "      <th>u(m/s)</th>\n",
       "      <th>v(m/s)</th>\n",
       "      <th>WS(m/s)</th>\n",
       "      <th>WD(degrees)</th>\n",
       "      <th>q(g/kg)</th>\n",
       "      <th>dq(g/kg)</th>\n",
       "      <th>ASTD(Celcius)</th>\n",
       "      <th>RiB</th>\n",
       "      <th>EDH(m)</th>\n",
       "    </tr>\n",
       "  </thead>\n",
       "  <tbody>\n",
       "    <tr>\n",
       "      <th>0</th>\n",
       "      <td>2015</td>\n",
       "      <td>10</td>\n",
       "      <td>13</td>\n",
       "      <td>0</td>\n",
       "      <td>-76.7401</td>\n",
       "      <td>34.8289</td>\n",
       "      <td>1008.15</td>\n",
       "      <td>18.86</td>\n",
       "      <td>19.72</td>\n",
       "      <td>94.00</td>\n",
       "      <td>-0.06</td>\n",
       "      <td>0.81</td>\n",
       "      <td>0.82</td>\n",
       "      <td>175.97</td>\n",
       "      <td>12.63</td>\n",
       "      <td>1.26</td>\n",
       "      <td>-0.85</td>\n",
       "      <td>0.86</td>\n",
       "      <td>0.0</td>\n",
       "    </tr>\n",
       "    <tr>\n",
       "      <th>1</th>\n",
       "      <td>2015</td>\n",
       "      <td>10</td>\n",
       "      <td>13</td>\n",
       "      <td>1</td>\n",
       "      <td>-76.7178</td>\n",
       "      <td>34.8293</td>\n",
       "      <td>1008.20</td>\n",
       "      <td>18.78</td>\n",
       "      <td>19.72</td>\n",
       "      <td>93.98</td>\n",
       "      <td>-0.09</td>\n",
       "      <td>0.83</td>\n",
       "      <td>0.84</td>\n",
       "      <td>173.90</td>\n",
       "      <td>12.56</td>\n",
       "      <td>1.32</td>\n",
       "      <td>-0.94</td>\n",
       "      <td>1.03</td>\n",
       "      <td>0.0</td>\n",
       "    </tr>\n",
       "    <tr>\n",
       "      <th>2</th>\n",
       "      <td>2015</td>\n",
       "      <td>10</td>\n",
       "      <td>13</td>\n",
       "      <td>2</td>\n",
       "      <td>-76.6955</td>\n",
       "      <td>34.8297</td>\n",
       "      <td>1008.26</td>\n",
       "      <td>18.69</td>\n",
       "      <td>19.65</td>\n",
       "      <td>93.99</td>\n",
       "      <td>-0.18</td>\n",
       "      <td>0.81</td>\n",
       "      <td>0.83</td>\n",
       "      <td>167.29</td>\n",
       "      <td>12.50</td>\n",
       "      <td>1.34</td>\n",
       "      <td>-0.96</td>\n",
       "      <td>1.28</td>\n",
       "      <td>0.0</td>\n",
       "    </tr>\n",
       "    <tr>\n",
       "      <th>3</th>\n",
       "      <td>2015</td>\n",
       "      <td>10</td>\n",
       "      <td>13</td>\n",
       "      <td>3</td>\n",
       "      <td>-76.6732</td>\n",
       "      <td>34.8300</td>\n",
       "      <td>1008.31</td>\n",
       "      <td>18.60</td>\n",
       "      <td>19.60</td>\n",
       "      <td>94.06</td>\n",
       "      <td>-0.21</td>\n",
       "      <td>0.90</td>\n",
       "      <td>0.92</td>\n",
       "      <td>166.58</td>\n",
       "      <td>12.43</td>\n",
       "      <td>1.36</td>\n",
       "      <td>-1.00</td>\n",
       "      <td>1.58</td>\n",
       "      <td>0.0</td>\n",
       "    </tr>\n",
       "    <tr>\n",
       "      <th>4</th>\n",
       "      <td>2015</td>\n",
       "      <td>10</td>\n",
       "      <td>13</td>\n",
       "      <td>4</td>\n",
       "      <td>-76.6509</td>\n",
       "      <td>34.8304</td>\n",
       "      <td>1008.33</td>\n",
       "      <td>18.49</td>\n",
       "      <td>19.53</td>\n",
       "      <td>93.98</td>\n",
       "      <td>-0.25</td>\n",
       "      <td>0.91</td>\n",
       "      <td>0.95</td>\n",
       "      <td>164.80</td>\n",
       "      <td>12.34</td>\n",
       "      <td>1.39</td>\n",
       "      <td>-1.04</td>\n",
       "      <td>2.14</td>\n",
       "      <td>0.0</td>\n",
       "    </tr>\n",
       "  </tbody>\n",
       "</table>\n",
       "</div>"
      ],
      "text/plain": [
       "   yyyy  mm  dd  HH      LON      LAT  Pres(hpa)  T(Celcius)  SST(Celcius)  \\\n",
       "0  2015  10  13   0 -76.7401  34.8289    1008.15       18.86         19.72   \n",
       "1  2015  10  13   1 -76.7178  34.8293    1008.20       18.78         19.72   \n",
       "2  2015  10  13   2 -76.6955  34.8297    1008.26       18.69         19.65   \n",
       "3  2015  10  13   3 -76.6732  34.8300    1008.31       18.60         19.60   \n",
       "4  2015  10  13   4 -76.6509  34.8304    1008.33       18.49         19.53   \n",
       "\n",
       "   RH(%)  u(m/s)  v(m/s)  WS(m/s)  WD(degrees)  q(g/kg)  dq(g/kg)  \\\n",
       "0  94.00   -0.06    0.81     0.82       175.97    12.63      1.26   \n",
       "1  93.98   -0.09    0.83     0.84       173.90    12.56      1.32   \n",
       "2  93.99   -0.18    0.81     0.83       167.29    12.50      1.34   \n",
       "3  94.06   -0.21    0.90     0.92       166.58    12.43      1.36   \n",
       "4  93.98   -0.25    0.91     0.95       164.80    12.34      1.39   \n",
       "\n",
       "   ASTD(Celcius)   RiB  EDH(m)  \n",
       "0          -0.85  0.86     0.0  \n",
       "1          -0.94  1.03     0.0  \n",
       "2          -0.96  1.28     0.0  \n",
       "3          -1.00  1.58     0.0  \n",
       "4          -1.04  2.14     0.0  "
      ]
     },
     "execution_count": 3,
     "metadata": {},
     "output_type": "execute_result"
    }
   ],
   "source": [
    "df.head()"
   ]
  },
  {
   "cell_type": "code",
   "execution_count": 6,
   "metadata": {},
   "outputs": [
    {
     "data": {
      "text/plain": [
       "['NRL_COAMPS_CASPER_EAST_2015101300.txt',\n",
       " 'NRL_COAMPS_CASPER_EAST_2015101312.txt',\n",
       " 'NRL_COAMPS_CASPER_EAST_2015101400.txt',\n",
       " 'NRL_COAMPS_CASPER_EAST_2015101412.txt',\n",
       " 'NRL_COAMPS_CASPER_EAST_2015101500.txt',\n",
       " 'NRL_COAMPS_CASPER_EAST_2015101512.txt',\n",
       " 'NRL_COAMPS_CASPER_EAST_2015101600.txt',\n",
       " 'NRL_COAMPS_CASPER_EAST_2015101612.txt',\n",
       " 'NRL_COAMPS_CASPER_EAST_2015101700.txt',\n",
       " 'NRL_COAMPS_CASPER_EAST_2015101712.txt',\n",
       " 'NRL_COAMPS_CASPER_EAST_2015101800.txt',\n",
       " 'NRL_COAMPS_CASPER_EAST_2015102012.txt',\n",
       " 'NRL_COAMPS_CASPER_EAST_2015102100.txt',\n",
       " 'NRL_COAMPS_CASPER_EAST_2015102200.txt',\n",
       " 'NRL_COAMPS_CASPER_EAST_2015102212.txt',\n",
       " 'NRL_COAMPS_CASPER_EAST_2015102300.txt',\n",
       " 'NRL_COAMPS_CASPER_EAST_2015102312.txt',\n",
       " 'NRL_COAMPS_CASPER_EAST_2015102400.txt',\n",
       " 'NRL_COAMPS_CASPER_EAST_2015102412.txt',\n",
       " 'NRL_COAMPS_CASPER_EAST_2015102500.txt',\n",
       " 'NRL_COAMPS_CASPER_EAST_2015102512.txt',\n",
       " 'NRL_COAMPS_CASPER_EAST_2015102600.txt',\n",
       " 'NRL_COAMPS_CASPER_EAST_2015102612.txt',\n",
       " 'NRL_COAMPS_CASPER_EAST_2015102700.txt',\n",
       " 'NRL_COAMPS_CASPER_EAST_2015102712.txt',\n",
       " 'NRL_COAMPS_CASPER_EAST_2015102800.txt',\n",
       " 'NRL_COAMPS_CASPER_EAST_2015102812.txt',\n",
       " 'NRL_COAMPS_CASPER_EAST_2015102900.txt',\n",
       " 'NRL_COAMPS_CASPER_EAST_2015102912.txt',\n",
       " 'NRL_COAMPS_CASPER_EAST_2015103000.txt',\n",
       " 'NRL_COAMPS_CASPER_EAST_2015103012.txt']"
      ]
     },
     "execution_count": 6,
     "metadata": {},
     "output_type": "execute_result"
    }
   ],
   "source": [
    "sorted(os.listdir(\"data\"))"
   ]
  },
  {
   "cell_type": "markdown",
   "metadata": {},
   "source": [
    "### Checking is there any nan values? "
   ]
  },
  {
   "cell_type": "code",
   "execution_count": 7,
   "metadata": {},
   "outputs": [
    {
     "data": {
      "text/plain": [
       "yyyy             False\n",
       "mm               False\n",
       "dd               False\n",
       "HH               False\n",
       "LON              False\n",
       "LAT              False\n",
       "Pres(hpa)        False\n",
       "T(Celcius)       False\n",
       "SST(Celcius)     False\n",
       "RH(%)            False\n",
       "u(m/s)           False\n",
       "v(m/s)           False\n",
       "WS(m/s)          False\n",
       "WD(degrees)      False\n",
       "q(g/kg)          False\n",
       "dq(g/kg)          True\n",
       "ASTD(Celcius)    False\n",
       "RiB              False\n",
       "EDH(m)           False\n",
       "dtype: bool"
      ]
     },
     "execution_count": 7,
     "metadata": {},
     "output_type": "execute_result"
    }
   ],
   "source": [
    "df.isnull().any()"
   ]
  },
  {
   "cell_type": "markdown",
   "metadata": {},
   "source": [
    "##### Checking the maximum in the data"
   ]
  },
  {
   "cell_type": "code",
   "execution_count": null,
   "metadata": {},
   "outputs": [],
   "source": [
    "df.max()"
   ]
  },
  {
   "cell_type": "markdown",
   "metadata": {},
   "source": [
    "#### Checking the minimum"
   ]
  },
  {
   "cell_type": "code",
   "execution_count": null,
   "metadata": {},
   "outputs": [],
   "source": [
    "df.min()"
   ]
  },
  {
   "cell_type": "code",
   "execution_count": null,
   "metadata": {},
   "outputs": [],
   "source": [
    "df = df.replace([np.inf,-np.inf], np.nan)\n",
    "df.max()"
   ]
  },
  {
   "cell_type": "code",
   "execution_count": null,
   "metadata": {},
   "outputs": [],
   "source": [
    "df.min()"
   ]
  },
  {
   "cell_type": "code",
   "execution_count": null,
   "metadata": {},
   "outputs": [],
   "source": [
    "df.isnull().any()"
   ]
  },
  {
   "cell_type": "code",
   "execution_count": null,
   "metadata": {},
   "outputs": [],
   "source": [
    "df = df.dropna()\n",
    "df.isnull().any()"
   ]
  },
  {
   "cell_type": "code",
   "execution_count": null,
   "metadata": {},
   "outputs": [],
   "source": [
    "df.shape"
   ]
  },
  {
   "cell_type": "markdown",
   "metadata": {},
   "source": [
    "## Modeling"
   ]
  },
  {
   "cell_type": "markdown",
   "metadata": {},
   "source": [
    "##### We are going to try the H2O random forest model"
   ]
  },
  {
   "cell_type": "code",
   "execution_count": 52,
   "metadata": {},
   "outputs": [
    {
     "name": "stdout",
     "output_type": "stream",
     "text": [
      "Checking whether there is an H2O instance running at http://localhost:54321..... not found.\n",
      "Attempting to start a local H2O server...\n",
      "  Java Version: java version \"1.8.0_91\"; Java(TM) SE Runtime Environment (build 1.8.0_91-b14); Java HotSpot(TM) 64-Bit Server VM (build 25.91-b14, mixed mode)\n",
      "  Starting server from /Users/denny/anaconda3/envs/EDH_ML/h2o_jar/h2o.jar\n",
      "  Ice root: /var/folders/t_/vqhq6xfs10n48trt1p70rmf80000gr/T/tmp24qpo7wv\n",
      "  JVM stdout: /var/folders/t_/vqhq6xfs10n48trt1p70rmf80000gr/T/tmp24qpo7wv/h2o_denny_started_from_python.out\n",
      "  JVM stderr: /var/folders/t_/vqhq6xfs10n48trt1p70rmf80000gr/T/tmp24qpo7wv/h2o_denny_started_from_python.err\n",
      "  Server is running at http://127.0.0.1:54321\n",
      "Connecting to H2O server at http://127.0.0.1:54321... successful.\n",
      "Warning: Your H2O cluster version is too old (1 year, 3 months and 14 days)! Please download and install the latest version from http://h2o.ai/download/\n"
     ]
    },
    {
     "data": {
      "text/html": [
       "<div style=\"overflow:auto\"><table style=\"width:50%\"><tr><td>H2O cluster uptime:</td>\n",
       "<td>02 secs</td></tr>\n",
       "<tr><td>H2O cluster timezone:</td>\n",
       "<td>America/Los_Angeles</td></tr>\n",
       "<tr><td>H2O data parsing timezone:</td>\n",
       "<td>UTC</td></tr>\n",
       "<tr><td>H2O cluster version:</td>\n",
       "<td>3.18.0.2</td></tr>\n",
       "<tr><td>H2O cluster version age:</td>\n",
       "<td>1 year, 3 months and 14 days !!!</td></tr>\n",
       "<tr><td>H2O cluster name:</td>\n",
       "<td>H2O_from_python_denny_3pg9fi</td></tr>\n",
       "<tr><td>H2O cluster total nodes:</td>\n",
       "<td>1</td></tr>\n",
       "<tr><td>H2O cluster free memory:</td>\n",
       "<td>10.67 Gb</td></tr>\n",
       "<tr><td>H2O cluster total cores:</td>\n",
       "<td>8</td></tr>\n",
       "<tr><td>H2O cluster allowed cores:</td>\n",
       "<td>8</td></tr>\n",
       "<tr><td>H2O cluster status:</td>\n",
       "<td>accepting new members, healthy</td></tr>\n",
       "<tr><td>H2O connection url:</td>\n",
       "<td>http://127.0.0.1:54321</td></tr>\n",
       "<tr><td>H2O connection proxy:</td>\n",
       "<td>None</td></tr>\n",
       "<tr><td>H2O internal security:</td>\n",
       "<td>False</td></tr>\n",
       "<tr><td>H2O API Extensions:</td>\n",
       "<td>XGBoost, Algos, AutoML, Core V3, Core V4</td></tr>\n",
       "<tr><td>Python version:</td>\n",
       "<td>3.6.8 final</td></tr></table></div>"
      ],
      "text/plain": [
       "--------------------------  ----------------------------------------\n",
       "H2O cluster uptime:         02 secs\n",
       "H2O cluster timezone:       America/Los_Angeles\n",
       "H2O data parsing timezone:  UTC\n",
       "H2O cluster version:        3.18.0.2\n",
       "H2O cluster version age:    1 year, 3 months and 14 days !!!\n",
       "H2O cluster name:           H2O_from_python_denny_3pg9fi\n",
       "H2O cluster total nodes:    1\n",
       "H2O cluster free memory:    10.67 Gb\n",
       "H2O cluster total cores:    8\n",
       "H2O cluster allowed cores:  8\n",
       "H2O cluster status:         accepting new members, healthy\n",
       "H2O connection url:         http://127.0.0.1:54321\n",
       "H2O connection proxy:\n",
       "H2O internal security:      False\n",
       "H2O API Extensions:         XGBoost, Algos, AutoML, Core V3, Core V4\n",
       "Python version:             3.6.8 final\n",
       "--------------------------  ----------------------------------------"
      ]
     },
     "metadata": {},
     "output_type": "display_data"
    }
   ],
   "source": [
    "h2o.init(max_mem_size = 12)"
   ]
  },
  {
   "cell_type": "code",
   "execution_count": 53,
   "metadata": {},
   "outputs": [
    {
     "name": "stderr",
     "output_type": "stream",
     "text": [
      "/Users/denny/anaconda3/envs/EDH_ML/lib/python3.6/site-packages/h2o/utils/shared_utils.py:170: FutureWarning: Method .as_matrix will be removed in a future version. Use .values instead.\n",
      "  data = _handle_python_lists(python_obj.as_matrix().tolist(), -1)[1]\n"
     ]
    },
    {
     "name": "stdout",
     "output_type": "stream",
     "text": [
      "Parse progress: |█████████████████████████████████████████████████████████| 100%\n"
     ]
    }
   ],
   "source": [
    "# converting the dataframe to H2O data frame.\n",
    "\n",
    "hf = h2o.H2OFrame(df)"
   ]
  },
  {
   "cell_type": "code",
   "execution_count": 54,
   "metadata": {},
   "outputs": [
    {
     "data": {
      "text/html": [
       "<table>\n",
       "<thead>\n",
       "<tr><th style=\"text-align: right;\">  yyyy</th><th style=\"text-align: right;\">  mm</th><th style=\"text-align: right;\">  dd</th><th style=\"text-align: right;\">  HH</th><th style=\"text-align: right;\">     LON</th><th style=\"text-align: right;\">    LAT</th><th style=\"text-align: right;\">  Pres(hpa)</th><th style=\"text-align: right;\">  T(Celcius)</th><th style=\"text-align: right;\">  SST(Celcius)</th><th style=\"text-align: right;\">  RH(%)</th><th style=\"text-align: right;\">  u(m/s)</th><th style=\"text-align: right;\">  v(m/s)</th><th style=\"text-align: right;\">  WS(m/s)</th><th style=\"text-align: right;\">  WD(degrees)</th><th style=\"text-align: right;\">  q(g/kg)</th><th style=\"text-align: right;\">  dq(g/kg)</th><th style=\"text-align: right;\">  ASTD(Celcius)</th><th style=\"text-align: right;\">  RiB</th><th style=\"text-align: right;\">  EDH(m)</th></tr>\n",
       "</thead>\n",
       "<tbody>\n",
       "<tr><td style=\"text-align: right;\">  2015</td><td style=\"text-align: right;\">  10</td><td style=\"text-align: right;\">  13</td><td style=\"text-align: right;\">   0</td><td style=\"text-align: right;\">-76.7401</td><td style=\"text-align: right;\">34.8289</td><td style=\"text-align: right;\">    1008.15</td><td style=\"text-align: right;\">       18.86</td><td style=\"text-align: right;\">         19.72</td><td style=\"text-align: right;\">  94   </td><td style=\"text-align: right;\">   -0.06</td><td style=\"text-align: right;\">    0.81</td><td style=\"text-align: right;\">     0.82</td><td style=\"text-align: right;\">       175.97</td><td style=\"text-align: right;\">    12.63</td><td style=\"text-align: right;\">      1.26</td><td style=\"text-align: right;\">          -0.85</td><td style=\"text-align: right;\"> 0.86</td><td style=\"text-align: right;\">       0</td></tr>\n",
       "<tr><td style=\"text-align: right;\">  2015</td><td style=\"text-align: right;\">  10</td><td style=\"text-align: right;\">  13</td><td style=\"text-align: right;\">   1</td><td style=\"text-align: right;\">-76.7178</td><td style=\"text-align: right;\">34.8293</td><td style=\"text-align: right;\">    1008.2 </td><td style=\"text-align: right;\">       18.78</td><td style=\"text-align: right;\">         19.72</td><td style=\"text-align: right;\">  93.98</td><td style=\"text-align: right;\">   -0.09</td><td style=\"text-align: right;\">    0.83</td><td style=\"text-align: right;\">     0.84</td><td style=\"text-align: right;\">       173.9 </td><td style=\"text-align: right;\">    12.56</td><td style=\"text-align: right;\">      1.32</td><td style=\"text-align: right;\">          -0.94</td><td style=\"text-align: right;\"> 1.03</td><td style=\"text-align: right;\">       0</td></tr>\n",
       "<tr><td style=\"text-align: right;\">  2015</td><td style=\"text-align: right;\">  10</td><td style=\"text-align: right;\">  13</td><td style=\"text-align: right;\">   2</td><td style=\"text-align: right;\">-76.6955</td><td style=\"text-align: right;\">34.8297</td><td style=\"text-align: right;\">    1008.26</td><td style=\"text-align: right;\">       18.69</td><td style=\"text-align: right;\">         19.65</td><td style=\"text-align: right;\">  93.99</td><td style=\"text-align: right;\">   -0.18</td><td style=\"text-align: right;\">    0.81</td><td style=\"text-align: right;\">     0.83</td><td style=\"text-align: right;\">       167.29</td><td style=\"text-align: right;\">    12.5 </td><td style=\"text-align: right;\">      1.34</td><td style=\"text-align: right;\">          -0.96</td><td style=\"text-align: right;\"> 1.28</td><td style=\"text-align: right;\">       0</td></tr>\n",
       "<tr><td style=\"text-align: right;\">  2015</td><td style=\"text-align: right;\">  10</td><td style=\"text-align: right;\">  13</td><td style=\"text-align: right;\">   3</td><td style=\"text-align: right;\">-76.6732</td><td style=\"text-align: right;\">34.83  </td><td style=\"text-align: right;\">    1008.31</td><td style=\"text-align: right;\">       18.6 </td><td style=\"text-align: right;\">         19.6 </td><td style=\"text-align: right;\">  94.06</td><td style=\"text-align: right;\">   -0.21</td><td style=\"text-align: right;\">    0.9 </td><td style=\"text-align: right;\">     0.92</td><td style=\"text-align: right;\">       166.58</td><td style=\"text-align: right;\">    12.43</td><td style=\"text-align: right;\">      1.36</td><td style=\"text-align: right;\">          -1   </td><td style=\"text-align: right;\"> 1.58</td><td style=\"text-align: right;\">       0</td></tr>\n",
       "<tr><td style=\"text-align: right;\">  2015</td><td style=\"text-align: right;\">  10</td><td style=\"text-align: right;\">  13</td><td style=\"text-align: right;\">   4</td><td style=\"text-align: right;\">-76.6509</td><td style=\"text-align: right;\">34.8304</td><td style=\"text-align: right;\">    1008.33</td><td style=\"text-align: right;\">       18.49</td><td style=\"text-align: right;\">         19.53</td><td style=\"text-align: right;\">  93.98</td><td style=\"text-align: right;\">   -0.25</td><td style=\"text-align: right;\">    0.91</td><td style=\"text-align: right;\">     0.95</td><td style=\"text-align: right;\">       164.8 </td><td style=\"text-align: right;\">    12.34</td><td style=\"text-align: right;\">      1.39</td><td style=\"text-align: right;\">          -1.04</td><td style=\"text-align: right;\"> 2.14</td><td style=\"text-align: right;\">       0</td></tr>\n",
       "<tr><td style=\"text-align: right;\">  2015</td><td style=\"text-align: right;\">  10</td><td style=\"text-align: right;\">  13</td><td style=\"text-align: right;\">   5</td><td style=\"text-align: right;\">-76.6286</td><td style=\"text-align: right;\">34.8308</td><td style=\"text-align: right;\">    1008.33</td><td style=\"text-align: right;\">       18.4 </td><td style=\"text-align: right;\">         19.46</td><td style=\"text-align: right;\">  93.85</td><td style=\"text-align: right;\">   -0.31</td><td style=\"text-align: right;\">    0.94</td><td style=\"text-align: right;\">     0.99</td><td style=\"text-align: right;\">       161.74</td><td style=\"text-align: right;\">    12.25</td><td style=\"text-align: right;\">      1.41</td><td style=\"text-align: right;\">          -1.05</td><td style=\"text-align: right;\"> 2.44</td><td style=\"text-align: right;\">       0</td></tr>\n",
       "<tr><td style=\"text-align: right;\">  2015</td><td style=\"text-align: right;\">  10</td><td style=\"text-align: right;\">  13</td><td style=\"text-align: right;\">   6</td><td style=\"text-align: right;\">-76.6063</td><td style=\"text-align: right;\">34.8312</td><td style=\"text-align: right;\">    1008.36</td><td style=\"text-align: right;\">       18.29</td><td style=\"text-align: right;\">         19.34</td><td style=\"text-align: right;\">  93.82</td><td style=\"text-align: right;\">   -0.38</td><td style=\"text-align: right;\">    0.93</td><td style=\"text-align: right;\">     1   </td><td style=\"text-align: right;\">       157.91</td><td style=\"text-align: right;\">    12.16</td><td style=\"text-align: right;\">      1.4 </td><td style=\"text-align: right;\">          -1.05</td><td style=\"text-align: right;\"> 2.76</td><td style=\"text-align: right;\">       0</td></tr>\n",
       "<tr><td style=\"text-align: right;\">  2015</td><td style=\"text-align: right;\">  10</td><td style=\"text-align: right;\">  13</td><td style=\"text-align: right;\">   7</td><td style=\"text-align: right;\">-76.584 </td><td style=\"text-align: right;\">34.8315</td><td style=\"text-align: right;\">    1008.33</td><td style=\"text-align: right;\">       18.1 </td><td style=\"text-align: right;\">         19.18</td><td style=\"text-align: right;\">  94.64</td><td style=\"text-align: right;\">   -0.45</td><td style=\"text-align: right;\">    1.13</td><td style=\"text-align: right;\">     1.22</td><td style=\"text-align: right;\">       158.47</td><td style=\"text-align: right;\">    12.12</td><td style=\"text-align: right;\">      1.3 </td><td style=\"text-align: right;\">          -1.08</td><td style=\"text-align: right;\"> 3.47</td><td style=\"text-align: right;\">       0</td></tr>\n",
       "<tr><td style=\"text-align: right;\">  2015</td><td style=\"text-align: right;\">  10</td><td style=\"text-align: right;\">  13</td><td style=\"text-align: right;\">   8</td><td style=\"text-align: right;\">-76.5616</td><td style=\"text-align: right;\">34.8319</td><td style=\"text-align: right;\">    1008.33</td><td style=\"text-align: right;\">       17.9 </td><td style=\"text-align: right;\">         18.96</td><td style=\"text-align: right;\">  95.45</td><td style=\"text-align: right;\">   -0.49</td><td style=\"text-align: right;\">    1.23</td><td style=\"text-align: right;\">     1.33</td><td style=\"text-align: right;\">       158.23</td><td style=\"text-align: right;\">    12.07</td><td style=\"text-align: right;\">      1.17</td><td style=\"text-align: right;\">          -1.05</td><td style=\"text-align: right;\"> 3.15</td><td style=\"text-align: right;\">       0</td></tr>\n",
       "<tr><td style=\"text-align: right;\">  2015</td><td style=\"text-align: right;\">  10</td><td style=\"text-align: right;\">  13</td><td style=\"text-align: right;\">   9</td><td style=\"text-align: right;\">-76.5394</td><td style=\"text-align: right;\">34.8322</td><td style=\"text-align: right;\">    1008.32</td><td style=\"text-align: right;\">       17.73</td><td style=\"text-align: right;\">         18.96</td><td style=\"text-align: right;\">  96.2 </td><td style=\"text-align: right;\">   -0.54</td><td style=\"text-align: right;\">    1.37</td><td style=\"text-align: right;\">     1.47</td><td style=\"text-align: right;\">       158.48</td><td style=\"text-align: right;\">    12.04</td><td style=\"text-align: right;\">      1.2 </td><td style=\"text-align: right;\">          -1.22</td><td style=\"text-align: right;\"> 2.9 </td><td style=\"text-align: right;\">       0</td></tr>\n",
       "</tbody>\n",
       "</table>"
      ]
     },
     "metadata": {},
     "output_type": "display_data"
    },
    {
     "data": {
      "text/plain": []
     },
     "execution_count": 54,
     "metadata": {},
     "output_type": "execute_result"
    }
   ],
   "source": [
    "hf.head()"
   ]
  },
  {
   "cell_type": "code",
   "execution_count": 62,
   "metadata": {},
   "outputs": [
    {
     "name": "stdout",
     "output_type": "stream",
     "text": [
      "x = ['yyyy', 'mm', 'dd', 'HH', 'LON', 'LAT', 'Pres(hpa)', 'T(Celcius)', 'SST(Celcius)', 'RH(%)', 'u(m/s)', 'v(m/s)', 'WS(m/s)', 'WD(degrees)', 'q(g/kg)', 'dq(g/kg)', 'ASTD(Celcius)', 'RiB']\n",
      " \n",
      "y = EDH(m)\n"
     ]
    }
   ],
   "source": [
    "x = hf.columns\n",
    "y = \"EDH(m)\"\n",
    "x.remove(y)\n",
    "print(\"x =\",x);print(\" \");print(\"y =\",y)"
   ]
  },
  {
   "cell_type": "code",
   "execution_count": 68,
   "metadata": {},
   "outputs": [
    {
     "name": "stdout",
     "output_type": "stream",
     "text": [
      "(4738661, 19)\n",
      "(1184419, 19)\n"
     ]
    },
    {
     "data": {
      "text/plain": [
       "True"
      ]
     },
     "execution_count": 68,
     "metadata": {},
     "output_type": "execute_result"
    }
   ],
   "source": [
    "hf_train, hf_test = hf.split_frame(ratios=[0.8])\n",
    "\n",
    "print(hf_train.shape); print(hf_test.shape)\n",
    "\n",
    "len(hf_train) + len(hf_test) == len(hf)\n",
    "\n",
    "# alternate for \"len(hf_train)\"\" is \"hf_train.nrow\" \n",
    "# that means, alternatively we can use \"hf_train.nrow + hf_test.nrow = hf.nrow\""
   ]
  },
  {
   "cell_type": "markdown",
   "metadata": {},
   "source": [
    "## H2O random forest estimator"
   ]
  },
  {
   "cell_type": "code",
   "execution_count": 69,
   "metadata": {},
   "outputs": [
    {
     "name": "stdout",
     "output_type": "stream",
     "text": [
      "drf Model Build progress: |███████████████████████████████████████████████| 100%\n"
     ]
    }
   ],
   "source": [
    "edh_rf = H2ORandomForestEstimator()\n",
    "edh_rf.train(x=x, y=y, training_frame = hf_train)"
   ]
  },
  {
   "cell_type": "code",
   "execution_count": 70,
   "metadata": {},
   "outputs": [
    {
     "name": "stdout",
     "output_type": "stream",
     "text": [
      "Model Details\n",
      "=============\n",
      "H2ORandomForestEstimator :  Distributed Random Forest\n",
      "Model Key:  DRF_model_python_1561057022593_1\n",
      "\n",
      "\n",
      "ModelMetricsRegression: drf\n",
      "** Reported on train data. **\n",
      "\n",
      "MSE: 0.6507754532804956\n",
      "RMSE: 0.8067065471907957\n",
      "MAE: 0.21109308211086183\n",
      "RMSLE: 0.12272010737284662\n",
      "Mean Residual Deviance: 0.6507754532804956\n",
      "Scoring History: \n"
     ]
    },
    {
     "data": {
      "text/html": [
       "<div style=\"overflow:auto\"><table style=\"width:50%\"><tr><td><b></b></td>\n",
       "<td><b>timestamp</b></td>\n",
       "<td><b>duration</b></td>\n",
       "<td><b>number_of_trees</b></td>\n",
       "<td><b>training_rmse</b></td>\n",
       "<td><b>training_mae</b></td>\n",
       "<td><b>training_deviance</b></td></tr>\n",
       "<tr><td></td>\n",
       "<td>2019-06-20 13:17:46</td>\n",
       "<td> 0.020 sec</td>\n",
       "<td>0.0</td>\n",
       "<td>nan</td>\n",
       "<td>nan</td>\n",
       "<td>nan</td></tr>\n",
       "<tr><td></td>\n",
       "<td>2019-06-20 13:17:52</td>\n",
       "<td> 6.287 sec</td>\n",
       "<td>1.0</td>\n",
       "<td>1.3307232</td>\n",
       "<td>0.2515093</td>\n",
       "<td>1.7708241</td></tr>\n",
       "<tr><td></td>\n",
       "<td>2019-06-20 13:17:58</td>\n",
       "<td>11.542 sec</td>\n",
       "<td>2.0</td>\n",
       "<td>1.2797343</td>\n",
       "<td>0.2500328</td>\n",
       "<td>1.6377200</td></tr>\n",
       "<tr><td></td>\n",
       "<td>2019-06-20 13:18:03</td>\n",
       "<td>16.850 sec</td>\n",
       "<td>3.0</td>\n",
       "<td>1.2441654</td>\n",
       "<td>0.2463009</td>\n",
       "<td>1.5479476</td></tr>\n",
       "<tr><td></td>\n",
       "<td>2019-06-20 13:18:07</td>\n",
       "<td>21.360 sec</td>\n",
       "<td>4.0</td>\n",
       "<td>1.2073606</td>\n",
       "<td>0.2492171</td>\n",
       "<td>1.4577196</td></tr>\n",
       "<tr><td>---</td>\n",
       "<td>---</td>\n",
       "<td>---</td>\n",
       "<td>---</td>\n",
       "<td>---</td>\n",
       "<td>---</td>\n",
       "<td>---</td></tr>\n",
       "<tr><td></td>\n",
       "<td>2019-06-20 13:21:58</td>\n",
       "<td> 4 min 11.673 sec</td>\n",
       "<td>46.0</td>\n",
       "<td>0.8098622</td>\n",
       "<td>0.2114291</td>\n",
       "<td>0.6558767</td></tr>\n",
       "<tr><td></td>\n",
       "<td>2019-06-20 13:22:04</td>\n",
       "<td> 4 min 17.660 sec</td>\n",
       "<td>47.0</td>\n",
       "<td>0.8084904</td>\n",
       "<td>0.2112027</td>\n",
       "<td>0.6536567</td></tr>\n",
       "<tr><td></td>\n",
       "<td>2019-06-20 13:22:10</td>\n",
       "<td> 4 min 23.432 sec</td>\n",
       "<td>48.0</td>\n",
       "<td>0.8070725</td>\n",
       "<td>0.2108019</td>\n",
       "<td>0.6513660</td></tr>\n",
       "<tr><td></td>\n",
       "<td>2019-06-20 13:22:15</td>\n",
       "<td> 4 min 28.810 sec</td>\n",
       "<td>49.0</td>\n",
       "<td>0.8060796</td>\n",
       "<td>0.2109216</td>\n",
       "<td>0.6497643</td></tr>\n",
       "<tr><td></td>\n",
       "<td>2019-06-20 13:22:20</td>\n",
       "<td> 4 min 34.106 sec</td>\n",
       "<td>50.0</td>\n",
       "<td>0.8067065</td>\n",
       "<td>0.2110931</td>\n",
       "<td>0.6507755</td></tr></table></div>"
      ],
      "text/plain": [
       "     timestamp            duration          number_of_trees    training_rmse       training_mae         training_deviance\n",
       "---  -------------------  ----------------  -----------------  ------------------  -------------------  -------------------\n",
       "     2019-06-20 13:17:46  0.020 sec         0.0                nan                 nan                  nan\n",
       "     2019-06-20 13:17:52  6.287 sec         1.0                1.330723165624934   0.2515092547706051   1.770824143530846\n",
       "     2019-06-20 13:17:58  11.542 sec        2.0                1.2797343408071178  0.2500328424223291   1.637719983041028\n",
       "     2019-06-20 13:18:03  16.850 sec        3.0                1.2441654161616134  0.2463009157565291   1.5479475827726006\n",
       "     2019-06-20 13:18:07  21.360 sec        4.0                1.2073605800457297  0.24921713904373097  1.4577195702483607\n",
       "---  ---                  ---               ---                ---                 ---                  ---\n",
       "     2019-06-20 13:21:58  4 min 11.673 sec  46.0               0.8098621659701096  0.21142913183243178  0.6558767278697974\n",
       "     2019-06-20 13:22:04  4 min 17.660 sec  47.0               0.8084903591302025  0.21120269937250902  0.6536566608064839\n",
       "     2019-06-20 13:22:10  4 min 23.432 sec  48.0               0.8070725077202302  0.2108019092571933   0.651366032717821\n",
       "     2019-06-20 13:22:15  4 min 28.810 sec  49.0               0.8060796004992387  0.2109216025607547   0.6497643223410122\n",
       "     2019-06-20 13:22:20  4 min 34.106 sec  50.0               0.8067065471907957  0.21109308211086183  0.6507754532804956"
      ]
     },
     "metadata": {},
     "output_type": "display_data"
    },
    {
     "name": "stdout",
     "output_type": "stream",
     "text": [
      "\n",
      "See the whole table with table.as_data_frame()\n",
      "Variable Importances: \n"
     ]
    },
    {
     "data": {
      "text/html": [
       "<div style=\"overflow:auto\"><table style=\"width:50%\"><tr><td><b>variable</b></td>\n",
       "<td><b>relative_importance</b></td>\n",
       "<td><b>scaled_importance</b></td>\n",
       "<td><b>percentage</b></td></tr>\n",
       "<tr><td>dq(g/kg)</td>\n",
       "<td>1443772288.0000000</td>\n",
       "<td>1.0</td>\n",
       "<td>0.2225349</td></tr>\n",
       "<tr><td>WS(m/s)</td>\n",
       "<td>1052775488.0000000</td>\n",
       "<td>0.7291839</td>\n",
       "<td>0.1622689</td></tr>\n",
       "<tr><td>LON</td>\n",
       "<td>834307584.0000000</td>\n",
       "<td>0.5778665</td>\n",
       "<td>0.1285955</td></tr>\n",
       "<tr><td>RH(%)</td>\n",
       "<td>698458112.0000000</td>\n",
       "<td>0.4837730</td>\n",
       "<td>0.1076564</td></tr>\n",
       "<tr><td>SST(Celcius)</td>\n",
       "<td>563569664.0000000</td>\n",
       "<td>0.3903453</td>\n",
       "<td>0.0868655</td></tr>\n",
       "<tr><td>ASTD(Celcius)</td>\n",
       "<td>458429312.0000000</td>\n",
       "<td>0.3175219</td>\n",
       "<td>0.0706597</td></tr>\n",
       "<tr><td>T(Celcius)</td>\n",
       "<td>215081040.0000000</td>\n",
       "<td>0.1489716</td>\n",
       "<td>0.0331514</td></tr>\n",
       "<tr><td>Pres(hpa)</td>\n",
       "<td>199517200.0000000</td>\n",
       "<td>0.1381916</td>\n",
       "<td>0.0307525</td></tr>\n",
       "<tr><td>u(m/s)</td>\n",
       "<td>197932672.0000000</td>\n",
       "<td>0.1370941</td>\n",
       "<td>0.0305082</td></tr>\n",
       "<tr><td>v(m/s)</td>\n",
       "<td>195101456.0000000</td>\n",
       "<td>0.1351331</td>\n",
       "<td>0.0300718</td></tr>\n",
       "<tr><td>dd</td>\n",
       "<td>183655712.0000000</td>\n",
       "<td>0.1272055</td>\n",
       "<td>0.0283077</td></tr>\n",
       "<tr><td>LAT</td>\n",
       "<td>141283120.0000000</td>\n",
       "<td>0.0978569</td>\n",
       "<td>0.0217766</td></tr>\n",
       "<tr><td>q(g/kg)</td>\n",
       "<td>115755264.0000000</td>\n",
       "<td>0.0801756</td>\n",
       "<td>0.0178419</td></tr>\n",
       "<tr><td>WD(degrees)</td>\n",
       "<td>86128856.0000000</td>\n",
       "<td>0.0596554</td>\n",
       "<td>0.0132754</td></tr>\n",
       "<tr><td>RiB</td>\n",
       "<td>57758828.0000000</td>\n",
       "<td>0.0400055</td>\n",
       "<td>0.0089026</td></tr>\n",
       "<tr><td>HH</td>\n",
       "<td>44318928.0000000</td>\n",
       "<td>0.0306966</td>\n",
       "<td>0.0068311</td></tr></table></div>"
      ],
      "text/plain": [
       "variable       relative_importance    scaled_importance    percentage\n",
       "-------------  ---------------------  -------------------  ------------\n",
       "dq(g/kg)       1.44377e+09            1                    0.222535\n",
       "WS(m/s)        1.05278e+09            0.729184             0.162269\n",
       "LON            8.34308e+08            0.577866             0.128595\n",
       "RH(%)          6.98458e+08            0.483773             0.107656\n",
       "SST(Celcius)   5.6357e+08             0.390345             0.0868655\n",
       "ASTD(Celcius)  4.58429e+08            0.317522             0.0706597\n",
       "T(Celcius)     2.15081e+08            0.148972             0.0331514\n",
       "Pres(hpa)      1.99517e+08            0.138192             0.0307525\n",
       "u(m/s)         1.97933e+08            0.137094             0.0305082\n",
       "v(m/s)         1.95101e+08            0.135133             0.0300718\n",
       "dd             1.83656e+08            0.127205             0.0283077\n",
       "LAT            1.41283e+08            0.0978569            0.0217766\n",
       "q(g/kg)        1.15755e+08            0.0801756            0.0178419\n",
       "WD(degrees)    8.61289e+07            0.0596554            0.0132754\n",
       "RiB            5.77588e+07            0.0400055            0.00890262\n",
       "HH             4.43189e+07            0.0306966            0.00683107"
      ]
     },
     "metadata": {},
     "output_type": "display_data"
    },
    {
     "data": {
      "text/plain": []
     },
     "execution_count": 70,
     "metadata": {},
     "output_type": "execute_result"
    }
   ],
   "source": [
    "edh_rf"
   ]
  },
  {
   "cell_type": "code",
   "execution_count": 8,
   "metadata": {},
   "outputs": [
    {
     "ename": "NameError",
     "evalue": "name 'edh_rf' is not defined",
     "output_type": "error",
     "traceback": [
      "\u001b[0;31m---------------------------------------------------------------------------\u001b[0m",
      "\u001b[0;31mNameError\u001b[0m                                 Traceback (most recent call last)",
      "\u001b[0;32m<ipython-input-8-5fb1ed3e4d26>\u001b[0m in \u001b[0;36m<module>\u001b[0;34m\u001b[0m\n\u001b[0;32m----> 1\u001b[0;31m \u001b[0medh_perf\u001b[0m \u001b[0;34m=\u001b[0m \u001b[0medh_rf\u001b[0m\u001b[0;34m.\u001b[0m\u001b[0mmodel_performance\u001b[0m\u001b[0;34m(\u001b[0m\u001b[0mhf_test\u001b[0m\u001b[0;34m)\u001b[0m\u001b[0;34m\u001b[0m\u001b[0;34m\u001b[0m\u001b[0m\n\u001b[0m\u001b[1;32m      2\u001b[0m \u001b[0medh_perf\u001b[0m\u001b[0;34m\u001b[0m\u001b[0;34m\u001b[0m\u001b[0m\n",
      "\u001b[0;31mNameError\u001b[0m: name 'edh_rf' is not defined"
     ]
    }
   ],
   "source": [
    "edh_perf = edh_rf.model_performance(hf_test)\n",
    "edh_perf"
   ]
  },
  {
   "cell_type": "code",
   "execution_count": null,
   "metadata": {},
   "outputs": [],
   "source": []
  }
 ],
 "metadata": {
  "kernelspec": {
   "display_name": "Python 3",
   "language": "python",
   "name": "python3"
  },
  "language_info": {
   "codemirror_mode": {
    "name": "ipython",
    "version": 3
   },
   "file_extension": ".py",
   "mimetype": "text/x-python",
   "name": "python",
   "nbconvert_exporter": "python",
   "pygments_lexer": "ipython3",
   "version": "3.6.8"
  }
 },
 "nbformat": 4,
 "nbformat_minor": 2
}
