{
 "cells": [
  {
   "cell_type": "code",
   "execution_count": 1,
   "metadata": {},
   "outputs": [],
   "source": [
    "import glob\n",
    "import time \n",
    "import os \n",
    "\n",
    "\n",
    "import numpy as np\n",
    "import pandas as pd\n",
    "\n",
    "\n",
    "import h2o\n",
    "\n",
    "from h2o.estimators.random_forest import H2ORandomForestEstimator\n",
    "from sklearn.metrics import mean_absolute_error, mean_squared_error \n",
    "\n",
    "from hyperopt import hp, fmin, tpe, STATUS_OK, Trials\n",
    "\n",
    "import matplotlib.pyplot as plt"
   ]
  },
  {
   "cell_type": "markdown",
   "metadata": {},
   "source": [
    "This is where we read the data"
   ]
  },
  {
   "cell_type": "code",
   "execution_count": 2,
   "metadata": {},
   "outputs": [
    {
     "name": "stdout",
     "output_type": "stream",
     "text": [
      "(6120516, 19)\n"
     ]
    },
    {
     "data": {
      "text/html": [
       "<div>\n",
       "<style scoped>\n",
       "    .dataframe tbody tr th:only-of-type {\n",
       "        vertical-align: middle;\n",
       "    }\n",
       "\n",
       "    .dataframe tbody tr th {\n",
       "        vertical-align: top;\n",
       "    }\n",
       "\n",
       "    .dataframe thead th {\n",
       "        text-align: right;\n",
       "    }\n",
       "</style>\n",
       "<table border=\"1\" class=\"dataframe\">\n",
       "  <thead>\n",
       "    <tr style=\"text-align: right;\">\n",
       "      <th></th>\n",
       "      <th>yyyy</th>\n",
       "      <th>mm</th>\n",
       "      <th>dd</th>\n",
       "      <th>HH</th>\n",
       "      <th>LON</th>\n",
       "      <th>LAT</th>\n",
       "      <th>Pres(hpa)</th>\n",
       "      <th>T(Celcius)</th>\n",
       "      <th>SST(Celcius)</th>\n",
       "      <th>RH(%)</th>\n",
       "      <th>u(m/s)</th>\n",
       "      <th>v(m/s)</th>\n",
       "      <th>WS(m/s)</th>\n",
       "      <th>WD(degrees)</th>\n",
       "      <th>q(g/kg)</th>\n",
       "      <th>dq(g/kg)</th>\n",
       "      <th>ASTD(Celcius)</th>\n",
       "      <th>RiB</th>\n",
       "      <th>EDH(m)</th>\n",
       "    </tr>\n",
       "  </thead>\n",
       "  <tbody>\n",
       "    <tr>\n",
       "      <th>0</th>\n",
       "      <td>2015</td>\n",
       "      <td>10</td>\n",
       "      <td>13</td>\n",
       "      <td>0</td>\n",
       "      <td>-76.7401</td>\n",
       "      <td>34.8289</td>\n",
       "      <td>1008.15</td>\n",
       "      <td>18.86</td>\n",
       "      <td>19.72</td>\n",
       "      <td>94.00</td>\n",
       "      <td>-0.06</td>\n",
       "      <td>0.81</td>\n",
       "      <td>0.82</td>\n",
       "      <td>175.97</td>\n",
       "      <td>12.63</td>\n",
       "      <td>1.26</td>\n",
       "      <td>-0.85</td>\n",
       "      <td>0.86</td>\n",
       "      <td>0.0</td>\n",
       "    </tr>\n",
       "    <tr>\n",
       "      <th>1</th>\n",
       "      <td>2015</td>\n",
       "      <td>10</td>\n",
       "      <td>13</td>\n",
       "      <td>1</td>\n",
       "      <td>-76.7178</td>\n",
       "      <td>34.8293</td>\n",
       "      <td>1008.20</td>\n",
       "      <td>18.78</td>\n",
       "      <td>19.72</td>\n",
       "      <td>93.98</td>\n",
       "      <td>-0.09</td>\n",
       "      <td>0.83</td>\n",
       "      <td>0.84</td>\n",
       "      <td>173.90</td>\n",
       "      <td>12.56</td>\n",
       "      <td>1.32</td>\n",
       "      <td>-0.94</td>\n",
       "      <td>1.03</td>\n",
       "      <td>0.0</td>\n",
       "    </tr>\n",
       "    <tr>\n",
       "      <th>2</th>\n",
       "      <td>2015</td>\n",
       "      <td>10</td>\n",
       "      <td>13</td>\n",
       "      <td>2</td>\n",
       "      <td>-76.6955</td>\n",
       "      <td>34.8297</td>\n",
       "      <td>1008.26</td>\n",
       "      <td>18.69</td>\n",
       "      <td>19.65</td>\n",
       "      <td>93.99</td>\n",
       "      <td>-0.18</td>\n",
       "      <td>0.81</td>\n",
       "      <td>0.83</td>\n",
       "      <td>167.29</td>\n",
       "      <td>12.50</td>\n",
       "      <td>1.34</td>\n",
       "      <td>-0.96</td>\n",
       "      <td>1.28</td>\n",
       "      <td>0.0</td>\n",
       "    </tr>\n",
       "    <tr>\n",
       "      <th>3</th>\n",
       "      <td>2015</td>\n",
       "      <td>10</td>\n",
       "      <td>13</td>\n",
       "      <td>3</td>\n",
       "      <td>-76.6732</td>\n",
       "      <td>34.8300</td>\n",
       "      <td>1008.31</td>\n",
       "      <td>18.60</td>\n",
       "      <td>19.60</td>\n",
       "      <td>94.06</td>\n",
       "      <td>-0.21</td>\n",
       "      <td>0.90</td>\n",
       "      <td>0.92</td>\n",
       "      <td>166.58</td>\n",
       "      <td>12.43</td>\n",
       "      <td>1.36</td>\n",
       "      <td>-1.00</td>\n",
       "      <td>1.58</td>\n",
       "      <td>0.0</td>\n",
       "    </tr>\n",
       "    <tr>\n",
       "      <th>4</th>\n",
       "      <td>2015</td>\n",
       "      <td>10</td>\n",
       "      <td>13</td>\n",
       "      <td>4</td>\n",
       "      <td>-76.6509</td>\n",
       "      <td>34.8304</td>\n",
       "      <td>1008.33</td>\n",
       "      <td>18.49</td>\n",
       "      <td>19.53</td>\n",
       "      <td>93.98</td>\n",
       "      <td>-0.25</td>\n",
       "      <td>0.91</td>\n",
       "      <td>0.95</td>\n",
       "      <td>164.80</td>\n",
       "      <td>12.34</td>\n",
       "      <td>1.39</td>\n",
       "      <td>-1.04</td>\n",
       "      <td>2.14</td>\n",
       "      <td>0.0</td>\n",
       "    </tr>\n",
       "  </tbody>\n",
       "</table>\n",
       "</div>"
      ],
      "text/plain": [
       "   yyyy  mm  dd  HH      LON      LAT  Pres(hpa)  T(Celcius)  SST(Celcius)  \\\n",
       "0  2015  10  13   0 -76.7401  34.8289    1008.15       18.86         19.72   \n",
       "1  2015  10  13   1 -76.7178  34.8293    1008.20       18.78         19.72   \n",
       "2  2015  10  13   2 -76.6955  34.8297    1008.26       18.69         19.65   \n",
       "3  2015  10  13   3 -76.6732  34.8300    1008.31       18.60         19.60   \n",
       "4  2015  10  13   4 -76.6509  34.8304    1008.33       18.49         19.53   \n",
       "\n",
       "   RH(%)  u(m/s)  v(m/s)  WS(m/s)  WD(degrees)  q(g/kg)  dq(g/kg)  \\\n",
       "0  94.00   -0.06    0.81     0.82       175.97    12.63      1.26   \n",
       "1  93.98   -0.09    0.83     0.84       173.90    12.56      1.32   \n",
       "2  93.99   -0.18    0.81     0.83       167.29    12.50      1.34   \n",
       "3  94.06   -0.21    0.90     0.92       166.58    12.43      1.36   \n",
       "4  93.98   -0.25    0.91     0.95       164.80    12.34      1.39   \n",
       "\n",
       "   ASTD(Celcius)   RiB  EDH(m)  \n",
       "0          -0.85  0.86     0.0  \n",
       "1          -0.94  1.03     0.0  \n",
       "2          -0.96  1.28     0.0  \n",
       "3          -1.00  1.58     0.0  \n",
       "4          -1.04  2.14     0.0  "
      ]
     },
     "execution_count": 2,
     "metadata": {},
     "output_type": "execute_result"
    }
   ],
   "source": [
    "col_names= col_names = ['yyyy', 'mm', 'dd', 'HH', 'LON', 'LAT', 'Pres(hpa)', 'T(Celcius)', 'SST(Celcius)', 'RH(%)', 'u(m/s)', 'v(m/s)', 'WS(m/s)', 'WD(degrees)', 'q(g/kg)', 'dq(g/kg)', 'ASTD(Celcius)', 'RiB', 'EDH(m)']\n",
    "\n",
    "df = pd.concat([pd.read_csv(f, header = None, names = col_names, sep = '\\s+') for f in glob.glob('data/*.txt')], \n",
    "               ignore_index = True, sort = False)\n",
    "              \n",
    "print(df.shape)\n",
    "\n",
    "df.head()\n",
    "              "
   ]
  },
  {
   "cell_type": "code",
   "execution_count": 3,
   "metadata": {},
   "outputs": [
    {
     "data": {
      "text/plain": [
       "yyyy             2.015000e+03\n",
       "mm               1.000000e+01\n",
       "dd               1.300000e+01\n",
       "HH               0.000000e+00\n",
       "LON             -7.680440e+01\n",
       "LAT              3.482890e+01\n",
       "Pres(hpa)        0.000000e+00\n",
       "T(Celcius)      -2.731500e+02\n",
       "SST(Celcius)    -2.731500e+02\n",
       "RH(%)            1.786000e+01\n",
       "u(m/s)          -1.304000e+01\n",
       "v(m/s)          -1.438000e+01\n",
       "WS(m/s)          0.000000e+00\n",
       "WD(degrees)      0.000000e+00\n",
       "q(g/kg)          2.160000e+00\n",
       "dq(g/kg)        -4.090000e+00\n",
       "ASTD(Celcius)   -1.748000e+01\n",
       "RiB             -2.059190e+08\n",
       "EDH(m)           0.000000e+00\n",
       "dtype: float64"
      ]
     },
     "execution_count": 3,
     "metadata": {},
     "output_type": "execute_result"
    }
   ],
   "source": [
    "df.min()"
   ]
  },
  {
   "cell_type": "code",
   "execution_count": 4,
   "metadata": {},
   "outputs": [
    {
     "data": {
      "text/plain": [
       "yyyy             2.015000e+03\n",
       "mm               1.000000e+01\n",
       "dd               3.000000e+01\n",
       "HH               2.300000e+01\n",
       "LON             -7.386330e+01\n",
       "LAT              3.718000e+01\n",
       "Pres(hpa)        1.030210e+03\n",
       "T(Celcius)       2.645000e+01\n",
       "SST(Celcius)     3.334000e+01\n",
       "RH(%)            1.000300e+02\n",
       "u(m/s)           1.495000e+01\n",
       "v(m/s)           1.473000e+01\n",
       "WS(m/s)          1.750000e+01\n",
       "WD(degrees)      3.600000e+02\n",
       "q(g/kg)                   inf\n",
       "dq(g/kg)                  inf\n",
       "ASTD(Celcius)    2.971500e+02\n",
       "RiB              1.510094e+06\n",
       "EDH(m)           4.000000e+01\n",
       "dtype: float64"
      ]
     },
     "execution_count": 4,
     "metadata": {},
     "output_type": "execute_result"
    }
   ],
   "source": [
    "df.max()"
   ]
  },
  {
   "cell_type": "code",
   "execution_count": 5,
   "metadata": {},
   "outputs": [
    {
     "data": {
      "text/plain": [
       "yyyy             False\n",
       "mm               False\n",
       "dd               False\n",
       "HH               False\n",
       "LON              False\n",
       "LAT              False\n",
       "Pres(hpa)        False\n",
       "T(Celcius)       False\n",
       "SST(Celcius)     False\n",
       "RH(%)            False\n",
       "u(m/s)           False\n",
       "v(m/s)           False\n",
       "WS(m/s)          False\n",
       "WD(degrees)      False\n",
       "q(g/kg)          False\n",
       "dq(g/kg)          True\n",
       "ASTD(Celcius)    False\n",
       "RiB              False\n",
       "EDH(m)           False\n",
       "dtype: bool"
      ]
     },
     "execution_count": 5,
     "metadata": {},
     "output_type": "execute_result"
    }
   ],
   "source": [
    "df.isnull().any()"
   ]
  },
  {
   "cell_type": "code",
   "execution_count": 6,
   "metadata": {},
   "outputs": [],
   "source": [
    "df = df.replace([-np.inf, np.inf], np.nan).dropna()"
   ]
  },
  {
   "cell_type": "code",
   "execution_count": 7,
   "metadata": {},
   "outputs": [
    {
     "data": {
      "text/plain": [
       "yyyy             2.015000e+03\n",
       "mm               1.000000e+01\n",
       "dd               3.000000e+01\n",
       "HH               2.300000e+01\n",
       "LON             -7.386330e+01\n",
       "LAT              3.718000e+01\n",
       "Pres(hpa)        1.030210e+03\n",
       "T(Celcius)       2.645000e+01\n",
       "SST(Celcius)     3.334000e+01\n",
       "RH(%)            1.000300e+02\n",
       "u(m/s)           1.495000e+01\n",
       "v(m/s)           1.473000e+01\n",
       "WS(m/s)          1.750000e+01\n",
       "WD(degrees)      3.600000e+02\n",
       "q(g/kg)          1.734000e+01\n",
       "dq(g/kg)         2.231000e+01\n",
       "ASTD(Celcius)    8.800000e+00\n",
       "RiB              1.510094e+06\n",
       "EDH(m)           4.000000e+01\n",
       "dtype: float64"
      ]
     },
     "execution_count": 7,
     "metadata": {},
     "output_type": "execute_result"
    }
   ],
   "source": [
    "df.max()"
   ]
  },
  {
   "cell_type": "code",
   "execution_count": 8,
   "metadata": {},
   "outputs": [
    {
     "data": {
      "text/plain": [
       "yyyy             False\n",
       "mm               False\n",
       "dd               False\n",
       "HH               False\n",
       "LON              False\n",
       "LAT              False\n",
       "Pres(hpa)        False\n",
       "T(Celcius)       False\n",
       "SST(Celcius)     False\n",
       "RH(%)            False\n",
       "u(m/s)           False\n",
       "v(m/s)           False\n",
       "WS(m/s)          False\n",
       "WD(degrees)      False\n",
       "q(g/kg)          False\n",
       "dq(g/kg)         False\n",
       "ASTD(Celcius)    False\n",
       "RiB              False\n",
       "EDH(m)           False\n",
       "dtype: bool"
      ]
     },
     "execution_count": 8,
     "metadata": {},
     "output_type": "execute_result"
    }
   ],
   "source": [
    "df.isnull().any()"
   ]
  },
  {
   "cell_type": "code",
   "execution_count": 9,
   "metadata": {},
   "outputs": [
    {
     "name": "stdout",
     "output_type": "stream",
     "text": [
      "Checking whether there is an H2O instance running at http://localhost:54321..... not found.\n",
      "Attempting to start a local H2O server...\n",
      "  Java Version: java version \"1.8.0_91\"; Java(TM) SE Runtime Environment (build 1.8.0_91-b14); Java HotSpot(TM) 64-Bit Server VM (build 25.91-b14, mixed mode)\n",
      "  Starting server from /Users/denny/anaconda3/envs/EDH_ML/h2o_jar/h2o.jar\n",
      "  Ice root: /var/folders/t_/vqhq6xfs10n48trt1p70rmf80000gr/T/tmp7vdkomlv\n",
      "  JVM stdout: /var/folders/t_/vqhq6xfs10n48trt1p70rmf80000gr/T/tmp7vdkomlv/h2o_denny_started_from_python.out\n",
      "  JVM stderr: /var/folders/t_/vqhq6xfs10n48trt1p70rmf80000gr/T/tmp7vdkomlv/h2o_denny_started_from_python.err\n",
      "  Server is running at http://127.0.0.1:54321\n",
      "Connecting to H2O server at http://127.0.0.1:54321... successful.\n",
      "Warning: Your H2O cluster version is too old (1 year, 3 months and 21 days)! Please download and install the latest version from http://h2o.ai/download/\n"
     ]
    },
    {
     "data": {
      "text/html": [
       "<div style=\"overflow:auto\"><table style=\"width:50%\"><tr><td>H2O cluster uptime:</td>\n",
       "<td>02 secs</td></tr>\n",
       "<tr><td>H2O cluster timezone:</td>\n",
       "<td>America/Los_Angeles</td></tr>\n",
       "<tr><td>H2O data parsing timezone:</td>\n",
       "<td>UTC</td></tr>\n",
       "<tr><td>H2O cluster version:</td>\n",
       "<td>3.18.0.2</td></tr>\n",
       "<tr><td>H2O cluster version age:</td>\n",
       "<td>1 year, 3 months and 21 days !!!</td></tr>\n",
       "<tr><td>H2O cluster name:</td>\n",
       "<td>H2O_from_python_denny_3eemcw</td></tr>\n",
       "<tr><td>H2O cluster total nodes:</td>\n",
       "<td>1</td></tr>\n",
       "<tr><td>H2O cluster free memory:</td>\n",
       "<td>10.67 Gb</td></tr>\n",
       "<tr><td>H2O cluster total cores:</td>\n",
       "<td>8</td></tr>\n",
       "<tr><td>H2O cluster allowed cores:</td>\n",
       "<td>8</td></tr>\n",
       "<tr><td>H2O cluster status:</td>\n",
       "<td>accepting new members, healthy</td></tr>\n",
       "<tr><td>H2O connection url:</td>\n",
       "<td>http://127.0.0.1:54321</td></tr>\n",
       "<tr><td>H2O connection proxy:</td>\n",
       "<td>None</td></tr>\n",
       "<tr><td>H2O internal security:</td>\n",
       "<td>False</td></tr>\n",
       "<tr><td>H2O API Extensions:</td>\n",
       "<td>XGBoost, Algos, AutoML, Core V3, Core V4</td></tr>\n",
       "<tr><td>Python version:</td>\n",
       "<td>3.6.8 final</td></tr></table></div>"
      ],
      "text/plain": [
       "--------------------------  ----------------------------------------\n",
       "H2O cluster uptime:         02 secs\n",
       "H2O cluster timezone:       America/Los_Angeles\n",
       "H2O data parsing timezone:  UTC\n",
       "H2O cluster version:        3.18.0.2\n",
       "H2O cluster version age:    1 year, 3 months and 21 days !!!\n",
       "H2O cluster name:           H2O_from_python_denny_3eemcw\n",
       "H2O cluster total nodes:    1\n",
       "H2O cluster free memory:    10.67 Gb\n",
       "H2O cluster total cores:    8\n",
       "H2O cluster allowed cores:  8\n",
       "H2O cluster status:         accepting new members, healthy\n",
       "H2O connection url:         http://127.0.0.1:54321\n",
       "H2O connection proxy:\n",
       "H2O internal security:      False\n",
       "H2O API Extensions:         XGBoost, Algos, AutoML, Core V3, Core V4\n",
       "Python version:             3.6.8 final\n",
       "--------------------------  ----------------------------------------"
      ]
     },
     "metadata": {},
     "output_type": "display_data"
    }
   ],
   "source": [
    "h2o.init(max_mem_size=12)"
   ]
  },
  {
   "cell_type": "code",
   "execution_count": 10,
   "metadata": {},
   "outputs": [
    {
     "name": "stderr",
     "output_type": "stream",
     "text": [
      "/Users/denny/anaconda3/envs/EDH_ML/lib/python3.6/site-packages/h2o/utils/shared_utils.py:170: FutureWarning: Method .as_matrix will be removed in a future version. Use .values instead.\n",
      "  data = _handle_python_lists(python_obj.as_matrix().tolist(), -1)[1]\n"
     ]
    },
    {
     "name": "stdout",
     "output_type": "stream",
     "text": [
      "Parse progress: |█████████████████████████████████████████████████████████| 100%\n"
     ]
    }
   ],
   "source": [
    "hf=h2o.H2OFrame(df)"
   ]
  },
  {
   "cell_type": "code",
   "execution_count": 11,
   "metadata": {},
   "outputs": [],
   "source": [
    "x = ['Pres(hpa)', 'T(Celcius)', 'SST(Celcius)', 'dq(g/kg)', 'ASTD(Celcius)']\n",
    "y = 'EDH(m)'"
   ]
  },
  {
   "cell_type": "code",
   "execution_count": 12,
   "metadata": {},
   "outputs": [
    {
     "name": "stdout",
     "output_type": "stream",
     "text": [
      "4738233\n",
      "1184847\n"
     ]
    },
    {
     "data": {
      "text/plain": [
       "True"
      ]
     },
     "execution_count": 12,
     "metadata": {},
     "output_type": "execute_result"
    }
   ],
   "source": [
    "hf_train, hf_test = hf.split_frame(ratios=[0.8])\n",
    "\n",
    "print(len(hf_train)); print(len(hf_test))\n",
    "\n",
    "len(hf_train) + len(hf_test) == len(hf)"
   ]
  },
  {
   "cell_type": "code",
   "execution_count": 15,
   "metadata": {},
   "outputs": [],
   "source": [
    "edh_rf = H2ORandomForestEstimator(max_depth = 10, min_rows = 3, min_split_improvement = 1e-10, ntrees = 50)"
   ]
  },
  {
   "cell_type": "code",
   "execution_count": 16,
   "metadata": {},
   "outputs": [
    {
     "name": "stdout",
     "output_type": "stream",
     "text": [
      "drf Model Build progress: |███████████████████████████████████████████████| 100%\n"
     ]
    }
   ],
   "source": [
    "edh_rf.train(x=x, y=y, training_frame = hf_train)"
   ]
  },
  {
   "cell_type": "code",
   "execution_count": 17,
   "metadata": {},
   "outputs": [
    {
     "name": "stdout",
     "output_type": "stream",
     "text": [
      "Model Details\n",
      "=============\n",
      "H2ORandomForestEstimator :  Distributed Random Forest\n",
      "Model Key:  DRF_model_python_1561669666203_2\n",
      "\n",
      "\n",
      "ModelMetricsRegression: drf\n",
      "** Reported on train data. **\n",
      "\n",
      "MSE: 12.59301319885602\n",
      "RMSE: 3.548663579272628\n",
      "MAE: 1.9511054470284912\n",
      "RMSLE: 0.5492918806969123\n",
      "Mean Residual Deviance: 12.59301319885602\n",
      "Scoring History: \n"
     ]
    },
    {
     "data": {
      "text/html": [
       "<div style=\"overflow:auto\"><table style=\"width:50%\"><tr><td><b></b></td>\n",
       "<td><b>timestamp</b></td>\n",
       "<td><b>duration</b></td>\n",
       "<td><b>number_of_trees</b></td>\n",
       "<td><b>training_rmse</b></td>\n",
       "<td><b>training_mae</b></td>\n",
       "<td><b>training_deviance</b></td></tr>\n",
       "<tr><td></td>\n",
       "<td>2019-06-27 14:26:26</td>\n",
       "<td> 0.002 sec</td>\n",
       "<td>0.0</td>\n",
       "<td>nan</td>\n",
       "<td>nan</td>\n",
       "<td>nan</td></tr>\n",
       "<tr><td></td>\n",
       "<td>2019-06-27 14:26:27</td>\n",
       "<td> 0.707 sec</td>\n",
       "<td>1.0</td>\n",
       "<td>4.0065699</td>\n",
       "<td>2.2324347</td>\n",
       "<td>16.0526021</td></tr>\n",
       "<tr><td></td>\n",
       "<td>2019-06-27 14:26:28</td>\n",
       "<td> 1.416 sec</td>\n",
       "<td>2.0</td>\n",
       "<td>3.9194084</td>\n",
       "<td>2.1281792</td>\n",
       "<td>15.3617618</td></tr>\n",
       "<tr><td></td>\n",
       "<td>2019-06-27 14:26:28</td>\n",
       "<td> 2.134 sec</td>\n",
       "<td>3.0</td>\n",
       "<td>3.9214830</td>\n",
       "<td>2.1246331</td>\n",
       "<td>15.3780285</td></tr>\n",
       "<tr><td></td>\n",
       "<td>2019-06-27 14:26:33</td>\n",
       "<td> 6.373 sec</td>\n",
       "<td>6.0</td>\n",
       "<td>3.7182449</td>\n",
       "<td>2.0064280</td>\n",
       "<td>13.8253454</td></tr>\n",
       "<tr><td></td>\n",
       "<td>2019-06-27 14:26:37</td>\n",
       "<td>11.014 sec</td>\n",
       "<td>11.0</td>\n",
       "<td>3.6256904</td>\n",
       "<td>1.9810266</td>\n",
       "<td>13.1456310</td></tr>\n",
       "<tr><td></td>\n",
       "<td>2019-06-27 14:26:41</td>\n",
       "<td>15.290 sec</td>\n",
       "<td>17.0</td>\n",
       "<td>3.5822097</td>\n",
       "<td>1.9539424</td>\n",
       "<td>12.8322263</td></tr>\n",
       "<tr><td></td>\n",
       "<td>2019-06-27 14:26:46</td>\n",
       "<td>19.587 sec</td>\n",
       "<td>23.0</td>\n",
       "<td>3.5810354</td>\n",
       "<td>1.9621364</td>\n",
       "<td>12.8238146</td></tr>\n",
       "<tr><td></td>\n",
       "<td>2019-06-27 14:26:50</td>\n",
       "<td>23.826 sec</td>\n",
       "<td>29.0</td>\n",
       "<td>3.5822101</td>\n",
       "<td>1.9706663</td>\n",
       "<td>12.8322289</td></tr>\n",
       "<tr><td></td>\n",
       "<td>2019-06-27 14:26:54</td>\n",
       "<td>28.245 sec</td>\n",
       "<td>35.0</td>\n",
       "<td>3.5680431</td>\n",
       "<td>1.9628469</td>\n",
       "<td>12.7309314</td></tr>\n",
       "<tr><td></td>\n",
       "<td>2019-06-27 14:26:59</td>\n",
       "<td>32.493 sec</td>\n",
       "<td>41.0</td>\n",
       "<td>3.5570623</td>\n",
       "<td>1.9531831</td>\n",
       "<td>12.6526925</td></tr>\n",
       "<tr><td></td>\n",
       "<td>2019-06-27 14:27:03</td>\n",
       "<td>37.124 sec</td>\n",
       "<td>47.0</td>\n",
       "<td>3.5539948</td>\n",
       "<td>1.9525465</td>\n",
       "<td>12.6308789</td></tr>\n",
       "<tr><td></td>\n",
       "<td>2019-06-27 14:27:05</td>\n",
       "<td>39.315 sec</td>\n",
       "<td>50.0</td>\n",
       "<td>3.5486636</td>\n",
       "<td>1.9511054</td>\n",
       "<td>12.5930132</td></tr></table></div>"
      ],
      "text/plain": [
       "    timestamp            duration    number_of_trees    training_rmse    training_mae    training_deviance\n",
       "--  -------------------  ----------  -----------------  ---------------  --------------  -------------------\n",
       "    2019-06-27 14:26:26  0.002 sec   0                  nan              nan             nan\n",
       "    2019-06-27 14:26:27  0.707 sec   1                  4.00657          2.23243         16.0526\n",
       "    2019-06-27 14:26:28  1.416 sec   2                  3.91941          2.12818         15.3618\n",
       "    2019-06-27 14:26:28  2.134 sec   3                  3.92148          2.12463         15.378\n",
       "    2019-06-27 14:26:33  6.373 sec   6                  3.71824          2.00643         13.8253\n",
       "    2019-06-27 14:26:37  11.014 sec  11                 3.62569          1.98103         13.1456\n",
       "    2019-06-27 14:26:41  15.290 sec  17                 3.58221          1.95394         12.8322\n",
       "    2019-06-27 14:26:46  19.587 sec  23                 3.58104          1.96214         12.8238\n",
       "    2019-06-27 14:26:50  23.826 sec  29                 3.58221          1.97067         12.8322\n",
       "    2019-06-27 14:26:54  28.245 sec  35                 3.56804          1.96285         12.7309\n",
       "    2019-06-27 14:26:59  32.493 sec  41                 3.55706          1.95318         12.6527\n",
       "    2019-06-27 14:27:03  37.124 sec  47                 3.55399          1.95255         12.6309\n",
       "    2019-06-27 14:27:05  39.315 sec  50                 3.54866          1.95111         12.593"
      ]
     },
     "metadata": {},
     "output_type": "display_data"
    },
    {
     "name": "stdout",
     "output_type": "stream",
     "text": [
      "Variable Importances: \n"
     ]
    },
    {
     "data": {
      "text/html": [
       "<div style=\"overflow:auto\"><table style=\"width:50%\"><tr><td><b>variable</b></td>\n",
       "<td><b>relative_importance</b></td>\n",
       "<td><b>scaled_importance</b></td>\n",
       "<td><b>percentage</b></td></tr>\n",
       "<tr><td>dq(g/kg)</td>\n",
       "<td>1391192192.0000000</td>\n",
       "<td>1.0</td>\n",
       "<td>0.3447464</td></tr>\n",
       "<tr><td>SST(Celcius)</td>\n",
       "<td>1162188928.0000000</td>\n",
       "<td>0.8353906</td>\n",
       "<td>0.2879979</td></tr>\n",
       "<tr><td>ASTD(Celcius)</td>\n",
       "<td>637251520.0000000</td>\n",
       "<td>0.4580615</td>\n",
       "<td>0.1579151</td></tr>\n",
       "<tr><td>T(Celcius)</td>\n",
       "<td>451503296.0000000</td>\n",
       "<td>0.3245442</td>\n",
       "<td>0.1118854</td></tr>\n",
       "<tr><td>Pres(hpa)</td>\n",
       "<td>393271136.0000000</td>\n",
       "<td>0.2826864</td>\n",
       "<td>0.0974551</td></tr></table></div>"
      ],
      "text/plain": [
       "variable       relative_importance    scaled_importance    percentage\n",
       "-------------  ---------------------  -------------------  ------------\n",
       "dq(g/kg)       1.39119e+09            1                    0.344746\n",
       "SST(Celcius)   1.16219e+09            0.835391             0.287998\n",
       "ASTD(Celcius)  6.37252e+08            0.458061             0.157915\n",
       "T(Celcius)     4.51503e+08            0.324544             0.111885\n",
       "Pres(hpa)      3.93271e+08            0.282686             0.0974551"
      ]
     },
     "metadata": {},
     "output_type": "display_data"
    },
    {
     "data": {
      "text/plain": []
     },
     "execution_count": 17,
     "metadata": {},
     "output_type": "execute_result"
    }
   ],
   "source": [
    "edh_rf"
   ]
  },
  {
   "cell_type": "code",
   "execution_count": 18,
   "metadata": {},
   "outputs": [
    {
     "name": "stdout",
     "output_type": "stream",
     "text": [
      "\n",
      "ModelMetricsRegression: drf\n",
      "** Reported on test data. **\n",
      "\n",
      "MSE: 12.493330497351073\n",
      "RMSE: 3.5345905699742755\n",
      "MAE: 1.9410198186143126\n",
      "RMSLE: 0.5474379740777879\n",
      "Mean Residual Deviance: 12.493330497351073\n"
     ]
    },
    {
     "data": {
      "text/plain": []
     },
     "execution_count": 18,
     "metadata": {},
     "output_type": "execute_result"
    }
   ],
   "source": [
    "edh_perf = edh_rf.model_performance(hf_test)\n",
    "edh_perf"
   ]
  },
  {
   "cell_type": "code",
   "execution_count": null,
   "metadata": {},
   "outputs": [],
   "source": []
  }
 ],
 "metadata": {
  "kernelspec": {
   "display_name": "Python 3",
   "language": "python",
   "name": "python3"
  },
  "language_info": {
   "codemirror_mode": {
    "name": "ipython",
    "version": 3
   },
   "file_extension": ".py",
   "mimetype": "text/x-python",
   "name": "python",
   "nbconvert_exporter": "python",
   "pygments_lexer": "ipython3",
   "version": "3.8.5"
  }
 },
 "nbformat": 4,
 "nbformat_minor": 2
}
